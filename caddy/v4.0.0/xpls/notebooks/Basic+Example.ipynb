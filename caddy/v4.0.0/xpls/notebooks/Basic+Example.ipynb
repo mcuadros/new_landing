{
 "cells": [
  {
   "cell_type": "code",
   "execution_count": null,
   "metadata": {},
   "outputs": [],
   "source": [
    "from sourced.spark import API as Engine\n",
    "from pyspark.sql import SparkSession\n",
    "from pyspark.sql.functions import *\n",
    "\n",
    "spark = SparkSession.builder\\\n",
    ".master(\"local[*]\").appName(\"Examples\")\\\n",
    ".getOrCreate()\n",
    "\n",
    "engine = Engine(spark, \"/repositories\")"
   ]
  },
  {
   "cell_type": "markdown",
   "metadata": {},
   "source": [
    "### Count the total of non-fork repositories"
   ]
  },
  {
   "cell_type": "code",
   "execution_count": null,
   "metadata": {},
   "outputs": [],
   "source": [
    "engine.repositories.filter(\"is_fork = false\")\\\n",
    ".select(\"id\").distinct()\\\n",
    ".agg(count(\"*\").alias(\"count\"))\\\n",
    ".select(\"count\").show()"
   ]
  },
  {
   "cell_type": "markdown",
   "metadata": {},
   "source": [
    "### Get all the files of all head commits"
   ]
  },
  {
   "cell_type": "code",
   "execution_count": null,
   "metadata": {},
   "outputs": [],
   "source": [
    "head_files = engine.repositories.filter(\"is_fork = false\").references\\\n",
    ".head_ref.commits.first_reference_commit\\\n",
    ".files\\\n",
    ".classify_languages()\\\n",
    ".filter(\"is_binary = false\")\\\n",
    ".select(\"file_hash\", \"path\", \"content\", \"lang\").filter(\"lang is not null\").cache()"
   ]
  },
  {
   "cell_type": "markdown",
   "metadata": {},
   "source": [
    "### Get the schema"
   ]
  },
  {
   "cell_type": "code",
   "execution_count": null,
   "metadata": {},
   "outputs": [],
   "source": [
    "head_files.printSchema()"
   ]
  },
  {
   "cell_type": "markdown",
   "metadata": {},
   "source": [
    "### Print result"
   ]
  },
  {
   "cell_type": "code",
   "execution_count": null,
   "metadata": {},
   "outputs": [],
   "source": [
    "head_files.show()"
   ]
  },
  {
   "cell_type": "markdown",
   "metadata": {},
   "source": [
    "### Top languages per number of files"
   ]
  },
  {
   "cell_type": "code",
   "execution_count": null,
   "metadata": {},
   "outputs": [],
   "source": [
    "top_ten_langs = head_files.distinct()\\\n",
    ".groupBy(\"lang\").agg(count(\"*\").alias(\"count\"))\\\n",
    ".orderBy(\"count\").sort(desc(\"count\")).limit(20)\\\n",
    ".show()"
   ]
  },
  {
   "cell_type": "markdown",
   "metadata": {
    "collapsed": true
   },
   "source": [
    "### Get all Java files"
   ]
  },
  {
   "cell_type": "code",
   "execution_count": null,
   "metadata": {},
   "outputs": [],
   "source": [
    " head_files.groupBy(\"lang\").agg(count(\"*\").alias(\"count\")).filter(\"lang='Java'\").show()"
   ]
  },
  {
   "cell_type": "markdown",
   "metadata": {
    "collapsed": true
   },
   "source": [
    "### Extract UASTs from all those files classfied as Python files in HEAD references"
   ]
  },
  {
   "cell_type": "code",
   "execution_count": null,
   "metadata": {
    "scrolled": false
   },
   "outputs": [],
   "source": [
    "head_files.where('lang = \"Python\"').extract_uasts().select('file_hash', 'path', 'lang', 'uast').limit(10).show()"
   ]
  },
  {
   "cell_type": "code",
   "execution_count": null,
   "metadata": {},
   "outputs": [],
   "source": []
  }
 ],
 "metadata": {
  "kernelspec": {
   "display_name": "Python 3",
   "language": "python",
   "name": "python3"
  },
  "language_info": {
   "codemirror_mode": {
    "name": "ipython",
    "version": 3
   },
   "file_extension": ".py",
   "mimetype": "text/x-python",
   "name": "python",
   "nbconvert_exporter": "python",
   "pygments_lexer": "ipython3",
   "version": "3.6.2"
  }
 },
 "nbformat": 4,
 "nbformat_minor": 2
}
